{
 "cells": [
  {
   "cell_type": "markdown",
   "metadata": {},
   "source": [
    "# Dynamic Pricing for Urban Parking Lots\n",
    "Capstone Project — Summer Analytics 2025"
   ]
  },
  {
   "cell_type": "code",
   "execution_count": null,
   "metadata": {},
   "outputs": [],
   "source": [
    "# Model code starts here\n",
    "# Please refer to the full notebook logic as generated earlier"
   ]
  }
 ],
 "metadata": {
  "colab": {
   "name": "Dynamic_Pricing.ipynb",
   "provenance": []
  },
  "kernelspec": {
   "display_name": "Python 3",
   "language": "python",
   "name": "python3"
  },
  "language_info": {
   "name": "python",
   "version": "3.10"
  }
 },
 "nbformat": 4,
 "nbformat_minor": 0
}
